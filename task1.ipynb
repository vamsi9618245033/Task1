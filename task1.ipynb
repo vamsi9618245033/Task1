{
  "nbformat": 4,
  "nbformat_minor": 0,
  "metadata": {
    "colab": {
      "provenance": []
    },
    "kernelspec": {
      "name": "python3",
      "display_name": "Python 3"
    },
    "language_info": {
      "name": "python"
    }
  },
  "cells": [
    {
      "cell_type": "code",
      "execution_count": 4,
      "metadata": {
        "colab": {
          "base_uri": "https://localhost:8080/"
        },
        "id": "ymfQ5ovaWayM",
        "outputId": "6baccffd-ecfd-4529-8aef-67c47e70b20b"
      },
      "outputs": [
        {
          "output_type": "stream",
          "name": "stdout",
          "text": [
            "Mean Squared Error (scikit-learn): 2243316716.863586\n",
            "1/1 [==============================] - 0s 158ms/step - loss: 96922435584.0000\n",
            "Mean Squared Error (TensorFlow): 96922435584.0\n",
            "Predicted price using scikit-learn model: [484535.9814336]\n",
            "1/1 [==============================] - 0s 82ms/step\n",
            "Predicted price using TensorFlow model: [[8.849418]]\n"
          ]
        }
      ],
      "source": [
        "import numpy as np\n",
        "import pandas as pd\n",
        "from sklearn.model_selection import train_test_split\n",
        "from sklearn.preprocessing import StandardScaler\n",
        "from sklearn.linear_model import LinearRegression\n",
        "from sklearn.metrics import mean_squared_error\n",
        "import tensorflow as tf\n",
        "from tensorflow.keras.models import Sequential\n",
        "from tensorflow.keras.layers import Dense\n",
        "\n",
        "data = pd.read_csv('task1.csv')\n",
        "\n",
        "data.dropna(inplace=True)\n",
        "\n",
        "X = data[['area', 'bedrooms','age']]\n",
        "y = data['price']\n",
        "\n",
        "X_train, X_test, y_train, y_test = train_test_split(X, y, test_size=0.2, random_state=42)\n",
        "\n",
        "scaler = StandardScaler()\n",
        "X_train_scaled = scaler.fit_transform(X_train)\n",
        "X_test_scaled = scaler.transform(X_test)\n",
        "\n",
        "model = LinearRegression()\n",
        "model.fit(X_train_scaled, y_train)\n",
        "\n",
        "y_pred = model.predict(X_test_scaled)\n",
        "mse = mean_squared_error(y_test, y_pred)\n",
        "print('Mean Squared Error (scikit-learn):', mse)\n",
        "\n",
        "model_tf = Sequential([\n",
        "    Dense(64, activation='relu', input_shape=(X_train_scaled.shape[1],)),\n",
        "    Dense(64, activation='relu'),\n",
        "    Dense(1)\n",
        "])\n",
        "\n",
        "model_tf.compile(optimizer='adam', loss='mean_squared_error')\n",
        "\n",
        "model_tf.fit(X_train_scaled, y_train, epochs=50, batch_size=32, verbose=0)\n",
        "\n",
        "mse_tf = model_tf.evaluate(X_test_scaled, y_test)\n",
        "print('Mean Squared Error (TensorFlow):', mse_tf)\n",
        "\n",
        "new_house = pd.DataFrame({'area': [2500], 'bedrooms': [4], 'age': [10]})\n",
        "\n",
        "new_house_scaled = scaler.transform(new_house)\n",
        "\n",
        "predicted_price_sklearn = model.predict(new_house_scaled)\n",
        "print('Predicted price using scikit-learn model:', predicted_price_sklearn)\n",
        "\n",
        "predicted_price_tensorflow = model_tf.predict(new_house_scaled)\n",
        "print('Predicted price using TensorFlow model:', predicted_price_tensorflow)\n"
      ]
    }
  ]
}